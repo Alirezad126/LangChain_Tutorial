{
 "cells": [
  {
   "cell_type": "code",
   "execution_count": 1,
   "metadata": {},
   "outputs": [],
   "source": [
    "from langchain.chat_models import ChatOpenAI\n",
    "from langchain.schema import HumanMessage, SystemMessage, AIMessage\n"
   ]
  },
  {
   "cell_type": "code",
   "execution_count": 4,
   "metadata": {},
   "outputs": [],
   "source": [
    "chat = ChatOpenAI(temperature=.7, model=\"gpt-3.5-turbo\")"
   ]
  },
  {
   "cell_type": "code",
   "execution_count": 12,
   "metadata": {},
   "outputs": [
    {
     "name": "stdout",
     "output_type": "stream",
     "text": [
      "Traveling to the moon is currently only possible for astronauts on specialized missions. If you are not an astronaut, there are no commercially available options for traveling to the moon as a tourist. However, in the future, companies such as SpaceX and Blue Origin are working on developing commercial space travel options that may include trips to the moon. Keep an eye on advancements in space tourism for potential opportunities in the future.\n"
     ]
    }
   ],
   "source": [
    "AI_Message = chat([\n",
    "    SystemMessage(content=\"You are an AI Assistant\"),\n",
    "    HumanMessage(content=\"How can I travel to moon?\"),\n",
    "])\n",
    "\n",
    "print(AI_Message.content)"
   ]
  },
  {
   "cell_type": "code",
   "execution_count": 23,
   "metadata": {},
   "outputs": [],
   "source": [
    "conversation = [{\"writer\":\"human\",\"message\": \"hello\"},\n",
    "                {\"writer\":\"AI\",\"message\": \"hello, how can I help you today?\"},\n",
    "                {\"writer\":\"human\",\"message\": \"My name is Alireza, can you tell me my name?\"}]\n",
    "\n",
    "\n",
    "\n",
    "contents = []\n",
    "for item in conversation:\n",
    "    if item[\"writer\"] == \"human\":\n",
    "        contents.append(HumanMessage(content=item[\"message\"]))\n",
    "    elif item[\"writer\"] == \"AI\":\n",
    "        contents.append(AIMessage(content=item[\"message\"]))\n",
    "        \n",
    "    else:\n",
    "        pass\n",
    "    "
   ]
  },
  {
   "cell_type": "code",
   "execution_count": 25,
   "metadata": {},
   "outputs": [
    {
     "data": {
      "text/plain": [
       "AIMessage(content=\"Hello Alireza! It's nice to meet you. Your name is Alireza. How can I assist you today?\", response_metadata={'token_usage': {'completion_tokens': 26, 'prompt_tokens': 39, 'total_tokens': 65}, 'model_name': 'gpt-3.5-turbo', 'system_fingerprint': 'fp_3b956da36b', 'finish_reason': 'stop', 'logprobs': None}, id='run-bb0deb11-c1ef-4516-aa8d-254baa8c45e2-0')"
      ]
     },
     "execution_count": 25,
     "metadata": {},
     "output_type": "execute_result"
    }
   ],
   "source": [
    "chat(contents)"
   ]
  },
  {
   "cell_type": "code",
   "execution_count": null,
   "metadata": {},
   "outputs": [],
   "source": []
  }
 ],
 "metadata": {
  "kernelspec": {
   "display_name": "LangChain",
   "language": "python",
   "name": "python3"
  },
  "language_info": {
   "codemirror_mode": {
    "name": "ipython",
    "version": 3
   },
   "file_extension": ".py",
   "mimetype": "text/x-python",
   "name": "python",
   "nbconvert_exporter": "python",
   "pygments_lexer": "ipython3",
   "version": "3.11.9"
  }
 },
 "nbformat": 4,
 "nbformat_minor": 2
}
